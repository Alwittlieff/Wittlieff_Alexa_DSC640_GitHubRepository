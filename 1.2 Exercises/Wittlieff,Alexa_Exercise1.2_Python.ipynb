{
 "cells": [
  {
   "cell_type": "markdown",
   "id": "4b72fa93",
   "metadata": {},
   "source": [
    "# 1.2 Assignment\n",
    "# DSC 640: Data Presentation and Visualizations\n",
    "# Wittlieff, Alexa\n",
    "# 6/12/2022"
   ]
  },
  {
   "cell_type": "code",
   "execution_count": 2,
   "id": "f722cf51",
   "metadata": {},
   "outputs": [],
   "source": [
    "# Load libraries\n",
    "import pandas as pd\n",
    "import matplotlib.pyplot as plt\n",
    "import numpy as np"
   ]
  },
  {
   "cell_type": "code",
   "execution_count": 5,
   "id": "dae9738a",
   "metadata": {},
   "outputs": [],
   "source": [
    "# Import dataset\n",
    "obama_df = pd.read_excel(r'C:\\Users\\Alexa\\Documents\\GitHub\\Wittlieff_Alexa_DSC640_GitHubRepository\\1.2 Exercises\\obama-approval-ratings.xls')\n",
    "hotdog_df = pd.read_excel(r'C:\\Users\\Alexa\\Documents\\GitHub\\Wittlieff_Alexa_DSC640_GitHubRepository\\1.2 Exercises\\hotdog-contest-winners.xlsm')"
   ]
  },
  {
   "cell_type": "code",
   "execution_count": 43,
   "id": "fc5d2759",
   "metadata": {},
   "outputs": [
    {
     "data": {
      "text/html": [
       "<div>\n",
       "<style scoped>\n",
       "    .dataframe tbody tr th:only-of-type {\n",
       "        vertical-align: middle;\n",
       "    }\n",
       "\n",
       "    .dataframe tbody tr th {\n",
       "        vertical-align: top;\n",
       "    }\n",
       "\n",
       "    .dataframe thead th {\n",
       "        text-align: right;\n",
       "    }\n",
       "</style>\n",
       "<table border=\"1\" class=\"dataframe\">\n",
       "  <thead>\n",
       "    <tr style=\"text-align: right;\">\n",
       "      <th></th>\n",
       "      <th>Issue</th>\n",
       "      <th>Approve</th>\n",
       "      <th>Disapprove</th>\n",
       "      <th>None</th>\n",
       "    </tr>\n",
       "  </thead>\n",
       "  <tbody>\n",
       "    <tr>\n",
       "      <th>0</th>\n",
       "      <td>Race Relations</td>\n",
       "      <td>52</td>\n",
       "      <td>38</td>\n",
       "      <td>10</td>\n",
       "    </tr>\n",
       "    <tr>\n",
       "      <th>1</th>\n",
       "      <td>Education</td>\n",
       "      <td>49</td>\n",
       "      <td>40</td>\n",
       "      <td>11</td>\n",
       "    </tr>\n",
       "    <tr>\n",
       "      <th>2</th>\n",
       "      <td>Terrorism</td>\n",
       "      <td>48</td>\n",
       "      <td>45</td>\n",
       "      <td>7</td>\n",
       "    </tr>\n",
       "    <tr>\n",
       "      <th>3</th>\n",
       "      <td>Energy Policy</td>\n",
       "      <td>47</td>\n",
       "      <td>42</td>\n",
       "      <td>11</td>\n",
       "    </tr>\n",
       "    <tr>\n",
       "      <th>4</th>\n",
       "      <td>Foreign Affairs</td>\n",
       "      <td>44</td>\n",
       "      <td>48</td>\n",
       "      <td>8</td>\n",
       "    </tr>\n",
       "    <tr>\n",
       "      <th>5</th>\n",
       "      <td>Environment</td>\n",
       "      <td>43</td>\n",
       "      <td>51</td>\n",
       "      <td>6</td>\n",
       "    </tr>\n",
       "    <tr>\n",
       "      <th>6</th>\n",
       "      <td>Situation in Iraq</td>\n",
       "      <td>41</td>\n",
       "      <td>53</td>\n",
       "      <td>6</td>\n",
       "    </tr>\n",
       "    <tr>\n",
       "      <th>7</th>\n",
       "      <td>Taxes</td>\n",
       "      <td>41</td>\n",
       "      <td>54</td>\n",
       "      <td>5</td>\n",
       "    </tr>\n",
       "    <tr>\n",
       "      <th>8</th>\n",
       "      <td>Healthcare Policy</td>\n",
       "      <td>40</td>\n",
       "      <td>57</td>\n",
       "      <td>3</td>\n",
       "    </tr>\n",
       "    <tr>\n",
       "      <th>9</th>\n",
       "      <td>Economy</td>\n",
       "      <td>38</td>\n",
       "      <td>59</td>\n",
       "      <td>3</td>\n",
       "    </tr>\n",
       "    <tr>\n",
       "      <th>10</th>\n",
       "      <td>Situation in Afghanistan</td>\n",
       "      <td>36</td>\n",
       "      <td>57</td>\n",
       "      <td>7</td>\n",
       "    </tr>\n",
       "    <tr>\n",
       "      <th>11</th>\n",
       "      <td>Federal Budget Deficit</td>\n",
       "      <td>31</td>\n",
       "      <td>64</td>\n",
       "      <td>5</td>\n",
       "    </tr>\n",
       "    <tr>\n",
       "      <th>12</th>\n",
       "      <td>Immigration</td>\n",
       "      <td>29</td>\n",
       "      <td>62</td>\n",
       "      <td>9</td>\n",
       "    </tr>\n",
       "  </tbody>\n",
       "</table>\n",
       "</div>"
      ],
      "text/plain": [
       "                       Issue  Approve  Disapprove  None\n",
       "0             Race Relations       52          38    10\n",
       "1                  Education       49          40    11\n",
       "2                  Terrorism       48          45     7\n",
       "3              Energy Policy       47          42    11\n",
       "4            Foreign Affairs       44          48     8\n",
       "5                Environment       43          51     6\n",
       "6          Situation in Iraq       41          53     6\n",
       "7                      Taxes       41          54     5\n",
       "8          Healthcare Policy       40          57     3\n",
       "9                    Economy       38          59     3\n",
       "10  Situation in Afghanistan       36          57     7\n",
       "11    Federal Budget Deficit       31          64     5\n",
       "12               Immigration       29          62     9"
      ]
     },
     "execution_count": 43,
     "metadata": {},
     "output_type": "execute_result"
    }
   ],
   "source": [
    "# Verify import success\n",
    "obama_df.head(13)"
   ]
  },
  {
   "cell_type": "code",
   "execution_count": 7,
   "id": "e8237e8a",
   "metadata": {},
   "outputs": [
    {
     "data": {
      "text/plain": [
       "(13, 4)"
      ]
     },
     "execution_count": 7,
     "metadata": {},
     "output_type": "execute_result"
    }
   ],
   "source": [
    "# View data frame dimensions\n",
    "obama_df.shape"
   ]
  },
  {
   "cell_type": "code",
   "execution_count": 8,
   "id": "f52e968e",
   "metadata": {},
   "outputs": [
    {
     "data": {
      "text/plain": [
       "Issue         object\n",
       "Approve        int64\n",
       "Disapprove     int64\n",
       "None           int64\n",
       "dtype: object"
      ]
     },
     "execution_count": 8,
     "metadata": {},
     "output_type": "execute_result"
    }
   ],
   "source": [
    "# View data types\n",
    "obama_df.dtypes"
   ]
  },
  {
   "cell_type": "code",
   "execution_count": 9,
   "id": "9cbc9522",
   "metadata": {},
   "outputs": [
    {
     "data": {
      "text/html": [
       "<div>\n",
       "<style scoped>\n",
       "    .dataframe tbody tr th:only-of-type {\n",
       "        vertical-align: middle;\n",
       "    }\n",
       "\n",
       "    .dataframe tbody tr th {\n",
       "        vertical-align: top;\n",
       "    }\n",
       "\n",
       "    .dataframe thead th {\n",
       "        text-align: right;\n",
       "    }\n",
       "</style>\n",
       "<table border=\"1\" class=\"dataframe\">\n",
       "  <thead>\n",
       "    <tr style=\"text-align: right;\">\n",
       "      <th></th>\n",
       "      <th>Year</th>\n",
       "      <th>Winner</th>\n",
       "      <th>Dogs eaten</th>\n",
       "      <th>Country</th>\n",
       "      <th>New record</th>\n",
       "    </tr>\n",
       "  </thead>\n",
       "  <tbody>\n",
       "    <tr>\n",
       "      <th>0</th>\n",
       "      <td>1980</td>\n",
       "      <td>Paul Siederman &amp; Joe Baldini</td>\n",
       "      <td>9.1</td>\n",
       "      <td>United States</td>\n",
       "      <td>0</td>\n",
       "    </tr>\n",
       "    <tr>\n",
       "      <th>1</th>\n",
       "      <td>1981</td>\n",
       "      <td>Thomas DeBerry</td>\n",
       "      <td>11.0</td>\n",
       "      <td>United States</td>\n",
       "      <td>0</td>\n",
       "    </tr>\n",
       "    <tr>\n",
       "      <th>2</th>\n",
       "      <td>1982</td>\n",
       "      <td>Steven Abrams</td>\n",
       "      <td>11.0</td>\n",
       "      <td>United States</td>\n",
       "      <td>0</td>\n",
       "    </tr>\n",
       "    <tr>\n",
       "      <th>3</th>\n",
       "      <td>1983</td>\n",
       "      <td>Luis Llamas</td>\n",
       "      <td>19.5</td>\n",
       "      <td>Mexico</td>\n",
       "      <td>0</td>\n",
       "    </tr>\n",
       "    <tr>\n",
       "      <th>4</th>\n",
       "      <td>1984</td>\n",
       "      <td>Birgit Felden</td>\n",
       "      <td>9.5</td>\n",
       "      <td>Germany</td>\n",
       "      <td>0</td>\n",
       "    </tr>\n",
       "  </tbody>\n",
       "</table>\n",
       "</div>"
      ],
      "text/plain": [
       "   Year                        Winner  Dogs eaten        Country  New record\n",
       "0  1980  Paul Siederman & Joe Baldini         9.1  United States           0\n",
       "1  1981               Thomas DeBerry         11.0  United States           0\n",
       "2  1982                Steven Abrams         11.0  United States           0\n",
       "3  1983                  Luis Llamas         19.5         Mexico           0\n",
       "4  1984                Birgit Felden          9.5        Germany           0"
      ]
     },
     "execution_count": 9,
     "metadata": {},
     "output_type": "execute_result"
    }
   ],
   "source": [
    "# Verify import success\n",
    "hotdog_df.head()"
   ]
  },
  {
   "cell_type": "code",
   "execution_count": 10,
   "id": "28bb0b16",
   "metadata": {},
   "outputs": [
    {
     "data": {
      "text/plain": [
       "(31, 5)"
      ]
     },
     "execution_count": 10,
     "metadata": {},
     "output_type": "execute_result"
    }
   ],
   "source": [
    "# View data frame dimensions\n",
    "hotdog_df.shape"
   ]
  },
  {
   "cell_type": "code",
   "execution_count": 11,
   "id": "eec8bcd9",
   "metadata": {},
   "outputs": [
    {
     "data": {
      "text/plain": [
       "Year            int64\n",
       "Winner         object\n",
       "Dogs eaten    float64\n",
       "Country        object\n",
       "New record      int64\n",
       "dtype: object"
      ]
     },
     "execution_count": 11,
     "metadata": {},
     "output_type": "execute_result"
    }
   ],
   "source": [
    "# View data types\n",
    "hotdog_df.dtypes"
   ]
  },
  {
   "cell_type": "markdown",
   "id": "66fb9085",
   "metadata": {},
   "source": [
    "### 1. Bar Chart"
   ]
  },
  {
   "cell_type": "code",
   "execution_count": 29,
   "id": "5ba0c392",
   "metadata": {},
   "outputs": [
    {
     "data": {
      "image/png": "[encoded data removed]",
      "text/plain": [
       "<Figure size 432x288 with 1 Axes>"
      ]
     },
     "metadata": {
      "needs_background": "light"
     },
     "output_type": "display_data"
    }
   ],
   "source": [
    "# Create bar chart Barack Obama's Approval Ratings by Issue\n",
    "plt.barh(obama_df['Issue'], obama_df['Approve'], color = 'g')\n",
    "plt.xlabel('Approve')\n",
    "plt.ylabel('Issue')\n",
    "plt.title(\"Barack Obama's Approval Ratings by Issue\")\n",
    "plt.show()"
   ]
  },
  {
   "cell_type": "markdown",
   "id": "c052545a",
   "metadata": {},
   "source": [
    "### 2. Stacked Bar Chart"
   ]
  },
  {
   "cell_type": "code",
   "execution_count": 28,
   "id": "a72014b6",
   "metadata": {},
   "outputs": [
    {
     "data": {
      "text/plain": [
       "<matplotlib.legend.Legend at 0x1f5b19d5d60>"
      ]
     },
     "execution_count": 28,
     "metadata": {},
     "output_type": "execute_result"
    },
    {
     "data": {
      "image/png": "[encoded data removed]",
      "text/plain": [
       "<Figure size 432x288 with 1 Axes>"
      ]
     },
     "metadata": {
      "needs_background": "light"
     },
     "output_type": "display_data"
    }
   ],
   "source": [
    "# Create stacked bar chart Barack Obama's Ratings: All Issues\n",
    "ax = obama_df.plot(x='Issue', kind='barh', stacked=True, color = ['green', 'red','black'])\n",
    "ax.set_xlabel(\"Issue\")\n",
    "ax.set_ylabel(\"Approve, Disapprove, None\")\n",
    "ax.set_title(\"Barack Obama's Ratings: All Issues\")\n",
    "ax.legend()"
   ]
  },
  {
   "cell_type": "markdown",
   "id": "5b816bfd",
   "metadata": {},
   "source": [
    "### 3. Pie Chart"
   ]
  },
  {
   "cell_type": "code",
   "execution_count": 45,
   "id": "c3515b2a",
   "metadata": {},
   "outputs": [
    {
     "data": {
      "image/png": "[encoded data removed]",
      "text/plain": [
       "<Figure size 432x288 with 1 Axes>"
      ]
     },
     "metadata": {},
     "output_type": "display_data"
    }
   ],
   "source": [
    "# Create pie chart Barack Obama's Ratings: Economy\n",
    "y = np.array([obama_df['Approve'][9],obama_df['Disapprove'][9], obama_df['None'][9]])\n",
    "mylabels = [\"Approve\", \"Disapprove\", \"None\"]\n",
    "colors = (\"green\",\"red\",\"grey\")\n",
    "plt.pie(y, labels=mylabels, colors = colors, autopct='%1.1f%%')\n",
    "plt.title(\"Barack Obama's Ratings: Economy\")\n",
    "\n",
    "plt.show() "
   ]
  },
  {
   "cell_type": "markdown",
   "id": "c0d1f423",
   "metadata": {},
   "source": [
    "### 4. Donut Chart"
   ]
  },
  {
   "cell_type": "code",
   "execution_count": 47,
   "id": "de8d7f5a",
   "metadata": {},
   "outputs": [
    {
     "data": {
      "image/png": "[encoded data removed]",
      "text/plain": [
       "<Figure size 432x288 with 1 Axes>"
      ]
     },
     "metadata": {},
     "output_type": "display_data"
    }
   ],
   "source": [
    "# Create donut chart Barack Obama's Ratings: Taxes\n",
    "z = np.array([obama_df['Approve'][7],obama_df['Disapprove'][7], obama_df['None'][7]])\n",
    "plt.pie(z, labels=mylabels, colors = colors, autopct='%1.1f%%')\n",
    "plt.title(\"Barack Obama's Ratings: Taxes\")\n",
    "\n",
    "# Add circle in center to create donut chart\n",
    "my_circle=plt.Circle( (0,0), 0.7, color='white')\n",
    "p=plt.gcf()\n",
    "p.gca().add_artist(my_circle)\n",
    "\n",
    "plt.show()"
   ]
  },
  {
   "cell_type": "markdown",
   "id": "7d34e39e",
   "metadata": {},
   "source": [
    "### 5. Line Chart"
   ]
  },
  {
   "cell_type": "code",
   "execution_count": 48,
   "id": "593603bf",
   "metadata": {},
   "outputs": [
    {
     "data": {
      "image/png": "[encoded data removed]",
      "text/plain": [
       "<Figure size 432x288 with 1 Axes>"
      ]
     },
     "metadata": {
      "needs_background": "light"
     },
     "output_type": "display_data"
    }
   ],
   "source": [
    "# Create line chart Dogs Eaten by Contest Winners Each Year\n",
    "plt.plot(hotdog_df['Year'],hotdog_df['Dogs eaten'], color='red', marker='o')\n",
    "plt.title('Dogs Eaten by Contest Winners Each Year', fontsize=14)\n",
    "plt.xlabel('Year', fontsize=14)\n",
    "plt.ylabel('Dogs eaten', fontsize=14)\n",
    "plt.grid(True)\n",
    "plt.show()"
   ]
  }
 ],
 "metadata": {
  "kernelspec": {
   "display_name": "Python 3 (ipykernel)",
   "language": "python",
   "name": "python3"
  },
  "language_info": {
   "codemirror_mode": {
    "name": "ipython",
    "version": 3
   },
   "file_extension": ".py",
   "mimetype": "text/x-python",
   "name": "python",
   "nbconvert_exporter": "python",
   "pygments_lexer": "ipython3",
   "version": "3.9.7"
  }
 },
 "nbformat": 4,
 "nbformat_minor": 5
}
